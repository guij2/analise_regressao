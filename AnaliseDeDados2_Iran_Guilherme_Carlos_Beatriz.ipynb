{
  "cells": [
    {
      "cell_type": "markdown",
      "source": [
        "# Análise de dados\n",
        "\n",
        "### Grupo: Guilherme Barão, Iran Cruz Soares, Beatriz Evelbauer, Carlos Henrique\n",
        "\n",
        "*Disciplina: Análise de Regressão*\n",
        "\n",
        "\n",
        "---\n",
        "\n"
      ],
      "metadata": {
        "id": "UCRNk7XsSqxm"
      }
    },
    {
      "cell_type": "markdown",
      "source": [
        "Para essa análise de dados, escolhemos a base de dados _Cars - Purchase Decision Dataset_, disponível em https://www.kaggle.com/datasets/gabrielsantello/cars-purchase-decision-dataset?resource=download\n",
        "\n",
        "Como essa base de dados traça um perfil socioeconômico dos participantes e depois mostra se compram ou não um carro, percebemos que ela seria ideal para uma regressão logistica. Então, a variável resposta é categórica e vale 0 ou 1 quando a pessoa não compra ou compra o carro, respectivamente."
      ],
      "metadata": {
        "id": "deVkgABcLlfM"
      }
    },
    {
      "cell_type": "markdown",
      "source": [
        "## Índice<a class='anchor' id='top'></a>\n",
        "- [Importando Bibliotecas](#bibliotecas)📚\n",
        "- [Analisando os Dados](#analise)🔍"
      ],
      "metadata": {
        "id": "11BdwWc5NAvY"
      }
    },
    {
      "cell_type": "markdown",
      "source": [
        "## Importando Bibliotecas 📚 <a class='anchor' id='bibliotecas'></a> [↑](#top)"
      ],
      "metadata": {
        "id": "HkyyS0a-M95n"
      }
    },
    {
      "cell_type": "code",
      "execution_count": 2,
      "metadata": {
        "id": "N06s5oMQHlMP"
      },
      "outputs": [],
      "source": [
        "import pandas as pd\n",
        "import statsmodels.api as sm\n",
        "import statsmodels.formula.api as smf\n",
        "import zipfile\n",
        "import seaborn as sns\n",
        "import matplotlib.pyplot as plt\n",
        "import numpy as np\n",
        "from sklearn.datasets import load_wine\n",
        "import matplotlib.patches as Patches"
      ]
    },
    {
      "cell_type": "markdown",
      "source": [
        "## Analisando os Dados 🔍<a class='anchor' id='analise'></a> [↑](#top)\n",
        "\n",
        "Importando os dados:"
      ],
      "metadata": {
        "id": "JMPA1UHgNGjF"
      }
    },
    {
      "cell_type": "code",
      "execution_count": 6,
      "metadata": {
        "id": "e6483GFQHlMV",
        "outputId": "4bb0d740-2d6b-4173-eb17-8422d13dbb01",
        "colab": {
          "base_uri": "https://localhost:8080/",
          "height": 206
        }
      },
      "outputs": [
        {
          "output_type": "execute_result",
          "data": {
            "text/plain": [
              "   User ID Gender  Age  AnnualSalary  Purchased\n",
              "0      385   Male   35         20000          0\n",
              "1      681   Male   40         43500          0\n",
              "2      353   Male   49         74000          0\n",
              "3      895   Male   40        107500          1\n",
              "4      661   Male   25         79000          0"
            ],
            "text/html": [
              "\n",
              "\n",
              "  <div id=\"df-064a6cec-165d-4af7-82bb-0799a2e24e84\">\n",
              "    <div class=\"colab-df-container\">\n",
              "      <div>\n",
              "<style scoped>\n",
              "    .dataframe tbody tr th:only-of-type {\n",
              "        vertical-align: middle;\n",
              "    }\n",
              "\n",
              "    .dataframe tbody tr th {\n",
              "        vertical-align: top;\n",
              "    }\n",
              "\n",
              "    .dataframe thead th {\n",
              "        text-align: right;\n",
              "    }\n",
              "</style>\n",
              "<table border=\"1\" class=\"dataframe\">\n",
              "  <thead>\n",
              "    <tr style=\"text-align: right;\">\n",
              "      <th></th>\n",
              "      <th>User ID</th>\n",
              "      <th>Gender</th>\n",
              "      <th>Age</th>\n",
              "      <th>AnnualSalary</th>\n",
              "      <th>Purchased</th>\n",
              "    </tr>\n",
              "  </thead>\n",
              "  <tbody>\n",
              "    <tr>\n",
              "      <th>0</th>\n",
              "      <td>385</td>\n",
              "      <td>Male</td>\n",
              "      <td>35</td>\n",
              "      <td>20000</td>\n",
              "      <td>0</td>\n",
              "    </tr>\n",
              "    <tr>\n",
              "      <th>1</th>\n",
              "      <td>681</td>\n",
              "      <td>Male</td>\n",
              "      <td>40</td>\n",
              "      <td>43500</td>\n",
              "      <td>0</td>\n",
              "    </tr>\n",
              "    <tr>\n",
              "      <th>2</th>\n",
              "      <td>353</td>\n",
              "      <td>Male</td>\n",
              "      <td>49</td>\n",
              "      <td>74000</td>\n",
              "      <td>0</td>\n",
              "    </tr>\n",
              "    <tr>\n",
              "      <th>3</th>\n",
              "      <td>895</td>\n",
              "      <td>Male</td>\n",
              "      <td>40</td>\n",
              "      <td>107500</td>\n",
              "      <td>1</td>\n",
              "    </tr>\n",
              "    <tr>\n",
              "      <th>4</th>\n",
              "      <td>661</td>\n",
              "      <td>Male</td>\n",
              "      <td>25</td>\n",
              "      <td>79000</td>\n",
              "      <td>0</td>\n",
              "    </tr>\n",
              "  </tbody>\n",
              "</table>\n",
              "</div>\n",
              "      <button class=\"colab-df-convert\" onclick=\"convertToInteractive('df-064a6cec-165d-4af7-82bb-0799a2e24e84')\"\n",
              "              title=\"Convert this dataframe to an interactive table.\"\n",
              "              style=\"display:none;\">\n",
              "\n",
              "  <svg xmlns=\"http://www.w3.org/2000/svg\" height=\"24px\"viewBox=\"0 0 24 24\"\n",
              "       width=\"24px\">\n",
              "    <path d=\"M0 0h24v24H0V0z\" fill=\"none\"/>\n",
              "    <path d=\"M18.56 5.44l.94 2.06.94-2.06 2.06-.94-2.06-.94-.94-2.06-.94 2.06-2.06.94zm-11 1L8.5 8.5l.94-2.06 2.06-.94-2.06-.94L8.5 2.5l-.94 2.06-2.06.94zm10 10l.94 2.06.94-2.06 2.06-.94-2.06-.94-.94-2.06-.94 2.06-2.06.94z\"/><path d=\"M17.41 7.96l-1.37-1.37c-.4-.4-.92-.59-1.43-.59-.52 0-1.04.2-1.43.59L10.3 9.45l-7.72 7.72c-.78.78-.78 2.05 0 2.83L4 21.41c.39.39.9.59 1.41.59.51 0 1.02-.2 1.41-.59l7.78-7.78 2.81-2.81c.8-.78.8-2.07 0-2.86zM5.41 20L4 18.59l7.72-7.72 1.47 1.35L5.41 20z\"/>\n",
              "  </svg>\n",
              "      </button>\n",
              "\n",
              "\n",
              "\n",
              "    <div id=\"df-bf9489f3-9def-47c3-a626-e7a3dca7bd37\">\n",
              "      <button class=\"colab-df-quickchart\" onclick=\"quickchart('df-bf9489f3-9def-47c3-a626-e7a3dca7bd37')\"\n",
              "              title=\"Suggest charts.\"\n",
              "              style=\"display:none;\">\n",
              "\n",
              "<svg xmlns=\"http://www.w3.org/2000/svg\" height=\"24px\"viewBox=\"0 0 24 24\"\n",
              "     width=\"24px\">\n",
              "    <g>\n",
              "        <path d=\"M19 3H5c-1.1 0-2 .9-2 2v14c0 1.1.9 2 2 2h14c1.1 0 2-.9 2-2V5c0-1.1-.9-2-2-2zM9 17H7v-7h2v7zm4 0h-2V7h2v10zm4 0h-2v-4h2v4z\"/>\n",
              "    </g>\n",
              "</svg>\n",
              "      </button>\n",
              "    </div>\n",
              "\n",
              "<style>\n",
              "  .colab-df-quickchart {\n",
              "    background-color: #E8F0FE;\n",
              "    border: none;\n",
              "    border-radius: 50%;\n",
              "    cursor: pointer;\n",
              "    display: none;\n",
              "    fill: #1967D2;\n",
              "    height: 32px;\n",
              "    padding: 0 0 0 0;\n",
              "    width: 32px;\n",
              "  }\n",
              "\n",
              "  .colab-df-quickchart:hover {\n",
              "    background-color: #E2EBFA;\n",
              "    box-shadow: 0px 1px 2px rgba(60, 64, 67, 0.3), 0px 1px 3px 1px rgba(60, 64, 67, 0.15);\n",
              "    fill: #174EA6;\n",
              "  }\n",
              "\n",
              "  [theme=dark] .colab-df-quickchart {\n",
              "    background-color: #3B4455;\n",
              "    fill: #D2E3FC;\n",
              "  }\n",
              "\n",
              "  [theme=dark] .colab-df-quickchart:hover {\n",
              "    background-color: #434B5C;\n",
              "    box-shadow: 0px 1px 3px 1px rgba(0, 0, 0, 0.15);\n",
              "    filter: drop-shadow(0px 1px 2px rgba(0, 0, 0, 0.3));\n",
              "    fill: #FFFFFF;\n",
              "  }\n",
              "</style>\n",
              "\n",
              "    <script>\n",
              "      async function quickchart(key) {\n",
              "        const containerElement = document.querySelector('#' + key);\n",
              "        const charts = await google.colab.kernel.invokeFunction(\n",
              "            'suggestCharts', [key], {});\n",
              "      }\n",
              "    </script>\n",
              "\n",
              "      <script>\n",
              "\n",
              "function displayQuickchartButton(domScope) {\n",
              "  let quickchartButtonEl =\n",
              "    domScope.querySelector('#df-bf9489f3-9def-47c3-a626-e7a3dca7bd37 button.colab-df-quickchart');\n",
              "  quickchartButtonEl.style.display =\n",
              "    google.colab.kernel.accessAllowed ? 'block' : 'none';\n",
              "}\n",
              "\n",
              "        displayQuickchartButton(document);\n",
              "      </script>\n",
              "      <style>\n",
              "    .colab-df-container {\n",
              "      display:flex;\n",
              "      flex-wrap:wrap;\n",
              "      gap: 12px;\n",
              "    }\n",
              "\n",
              "    .colab-df-convert {\n",
              "      background-color: #E8F0FE;\n",
              "      border: none;\n",
              "      border-radius: 50%;\n",
              "      cursor: pointer;\n",
              "      display: none;\n",
              "      fill: #1967D2;\n",
              "      height: 32px;\n",
              "      padding: 0 0 0 0;\n",
              "      width: 32px;\n",
              "    }\n",
              "\n",
              "    .colab-df-convert:hover {\n",
              "      background-color: #E2EBFA;\n",
              "      box-shadow: 0px 1px 2px rgba(60, 64, 67, 0.3), 0px 1px 3px 1px rgba(60, 64, 67, 0.15);\n",
              "      fill: #174EA6;\n",
              "    }\n",
              "\n",
              "    [theme=dark] .colab-df-convert {\n",
              "      background-color: #3B4455;\n",
              "      fill: #D2E3FC;\n",
              "    }\n",
              "\n",
              "    [theme=dark] .colab-df-convert:hover {\n",
              "      background-color: #434B5C;\n",
              "      box-shadow: 0px 1px 3px 1px rgba(0, 0, 0, 0.15);\n",
              "      filter: drop-shadow(0px 1px 2px rgba(0, 0, 0, 0.3));\n",
              "      fill: #FFFFFF;\n",
              "    }\n",
              "  </style>\n",
              "\n",
              "      <script>\n",
              "        const buttonEl =\n",
              "          document.querySelector('#df-064a6cec-165d-4af7-82bb-0799a2e24e84 button.colab-df-convert');\n",
              "        buttonEl.style.display =\n",
              "          google.colab.kernel.accessAllowed ? 'block' : 'none';\n",
              "\n",
              "        async function convertToInteractive(key) {\n",
              "          const element = document.querySelector('#df-064a6cec-165d-4af7-82bb-0799a2e24e84');\n",
              "          const dataTable =\n",
              "            await google.colab.kernel.invokeFunction('convertToInteractive',\n",
              "                                                     [key], {});\n",
              "          if (!dataTable) return;\n",
              "\n",
              "          const docLinkHtml = 'Like what you see? Visit the ' +\n",
              "            '<a target=\"_blank\" href=https://colab.research.google.com/notebooks/data_table.ipynb>data table notebook</a>'\n",
              "            + ' to learn more about interactive tables.';\n",
              "          element.innerHTML = '';\n",
              "          dataTable['output_type'] = 'display_data';\n",
              "          await google.colab.output.renderOutput(dataTable, element);\n",
              "          const docLink = document.createElement('div');\n",
              "          docLink.innerHTML = docLinkHtml;\n",
              "          element.appendChild(docLink);\n",
              "        }\n",
              "      </script>\n",
              "    </div>\n",
              "  </div>\n"
            ]
          },
          "metadata": {},
          "execution_count": 6
        }
      ],
      "source": [
        "dados = pd.read_csv('https://raw.githubusercontent.com/binha0/AnReg/main/car_data.csv')\n",
        "dados.head()"
      ]
    },
    {
      "cell_type": "markdown",
      "source": [
        "Aqui, identificamos as possíveis covariáveis _Age_, _Gender_ e _AnnualSalary_. _User ID_ é apenas um identificador dos participantes, então não faz sentido ser utilizado na regressão, por isso é removido do data frame."
      ],
      "metadata": {
        "id": "5KoNkibvNV2x"
      }
    },
    {
      "cell_type": "code",
      "execution_count": 7,
      "metadata": {
        "id": "kVotW7ETHlMW",
        "outputId": "c4bc89ea-b20a-490c-e346-86b9d47186bd",
        "colab": {
          "base_uri": "https://localhost:8080/"
        }
      },
      "outputs": [
        {
          "output_type": "execute_result",
          "data": {
            "text/plain": [
              "User ID         1000\n",
              "Gender          1000\n",
              "Age             1000\n",
              "AnnualSalary    1000\n",
              "Purchased       1000\n",
              "dtype: int64"
            ]
          },
          "metadata": {},
          "execution_count": 7
        }
      ],
      "source": [
        "dados.count()"
      ]
    },
    {
      "cell_type": "markdown",
      "source": [
        "Utilizamos a função `count` somente para verificar que não há nenhum dado faltante."
      ],
      "metadata": {
        "id": "A5hYd50cNnzi"
      }
    },
    {
      "cell_type": "code",
      "execution_count": 8,
      "metadata": {
        "id": "V3u0Ny57HlMX",
        "outputId": "360ca208-7eb5-43e3-b24f-eb299e3bc780",
        "colab": {
          "base_uri": "https://localhost:8080/",
          "height": 206
        }
      },
      "outputs": [
        {
          "output_type": "execute_result",
          "data": {
            "text/plain": [
              "  Gender  Age  AnnualSalary  Purchased\n",
              "0   Male   35         20000          0\n",
              "1   Male   40         43500          0\n",
              "2   Male   49         74000          0\n",
              "3   Male   40        107500          1\n",
              "4   Male   25         79000          0"
            ],
            "text/html": [
              "\n",
              "\n",
              "  <div id=\"df-25b816ef-790b-4a19-bb06-5033e8fa563a\">\n",
              "    <div class=\"colab-df-container\">\n",
              "      <div>\n",
              "<style scoped>\n",
              "    .dataframe tbody tr th:only-of-type {\n",
              "        vertical-align: middle;\n",
              "    }\n",
              "\n",
              "    .dataframe tbody tr th {\n",
              "        vertical-align: top;\n",
              "    }\n",
              "\n",
              "    .dataframe thead th {\n",
              "        text-align: right;\n",
              "    }\n",
              "</style>\n",
              "<table border=\"1\" class=\"dataframe\">\n",
              "  <thead>\n",
              "    <tr style=\"text-align: right;\">\n",
              "      <th></th>\n",
              "      <th>Gender</th>\n",
              "      <th>Age</th>\n",
              "      <th>AnnualSalary</th>\n",
              "      <th>Purchased</th>\n",
              "    </tr>\n",
              "  </thead>\n",
              "  <tbody>\n",
              "    <tr>\n",
              "      <th>0</th>\n",
              "      <td>Male</td>\n",
              "      <td>35</td>\n",
              "      <td>20000</td>\n",
              "      <td>0</td>\n",
              "    </tr>\n",
              "    <tr>\n",
              "      <th>1</th>\n",
              "      <td>Male</td>\n",
              "      <td>40</td>\n",
              "      <td>43500</td>\n",
              "      <td>0</td>\n",
              "    </tr>\n",
              "    <tr>\n",
              "      <th>2</th>\n",
              "      <td>Male</td>\n",
              "      <td>49</td>\n",
              "      <td>74000</td>\n",
              "      <td>0</td>\n",
              "    </tr>\n",
              "    <tr>\n",
              "      <th>3</th>\n",
              "      <td>Male</td>\n",
              "      <td>40</td>\n",
              "      <td>107500</td>\n",
              "      <td>1</td>\n",
              "    </tr>\n",
              "    <tr>\n",
              "      <th>4</th>\n",
              "      <td>Male</td>\n",
              "      <td>25</td>\n",
              "      <td>79000</td>\n",
              "      <td>0</td>\n",
              "    </tr>\n",
              "  </tbody>\n",
              "</table>\n",
              "</div>\n",
              "      <button class=\"colab-df-convert\" onclick=\"convertToInteractive('df-25b816ef-790b-4a19-bb06-5033e8fa563a')\"\n",
              "              title=\"Convert this dataframe to an interactive table.\"\n",
              "              style=\"display:none;\">\n",
              "\n",
              "  <svg xmlns=\"http://www.w3.org/2000/svg\" height=\"24px\"viewBox=\"0 0 24 24\"\n",
              "       width=\"24px\">\n",
              "    <path d=\"M0 0h24v24H0V0z\" fill=\"none\"/>\n",
              "    <path d=\"M18.56 5.44l.94 2.06.94-2.06 2.06-.94-2.06-.94-.94-2.06-.94 2.06-2.06.94zm-11 1L8.5 8.5l.94-2.06 2.06-.94-2.06-.94L8.5 2.5l-.94 2.06-2.06.94zm10 10l.94 2.06.94-2.06 2.06-.94-2.06-.94-.94-2.06-.94 2.06-2.06.94z\"/><path d=\"M17.41 7.96l-1.37-1.37c-.4-.4-.92-.59-1.43-.59-.52 0-1.04.2-1.43.59L10.3 9.45l-7.72 7.72c-.78.78-.78 2.05 0 2.83L4 21.41c.39.39.9.59 1.41.59.51 0 1.02-.2 1.41-.59l7.78-7.78 2.81-2.81c.8-.78.8-2.07 0-2.86zM5.41 20L4 18.59l7.72-7.72 1.47 1.35L5.41 20z\"/>\n",
              "  </svg>\n",
              "      </button>\n",
              "\n",
              "\n",
              "\n",
              "    <div id=\"df-a34dc1d8-c190-45f3-a0c3-9b7f802f0d1f\">\n",
              "      <button class=\"colab-df-quickchart\" onclick=\"quickchart('df-a34dc1d8-c190-45f3-a0c3-9b7f802f0d1f')\"\n",
              "              title=\"Suggest charts.\"\n",
              "              style=\"display:none;\">\n",
              "\n",
              "<svg xmlns=\"http://www.w3.org/2000/svg\" height=\"24px\"viewBox=\"0 0 24 24\"\n",
              "     width=\"24px\">\n",
              "    <g>\n",
              "        <path d=\"M19 3H5c-1.1 0-2 .9-2 2v14c0 1.1.9 2 2 2h14c1.1 0 2-.9 2-2V5c0-1.1-.9-2-2-2zM9 17H7v-7h2v7zm4 0h-2V7h2v10zm4 0h-2v-4h2v4z\"/>\n",
              "    </g>\n",
              "</svg>\n",
              "      </button>\n",
              "    </div>\n",
              "\n",
              "<style>\n",
              "  .colab-df-quickchart {\n",
              "    background-color: #E8F0FE;\n",
              "    border: none;\n",
              "    border-radius: 50%;\n",
              "    cursor: pointer;\n",
              "    display: none;\n",
              "    fill: #1967D2;\n",
              "    height: 32px;\n",
              "    padding: 0 0 0 0;\n",
              "    width: 32px;\n",
              "  }\n",
              "\n",
              "  .colab-df-quickchart:hover {\n",
              "    background-color: #E2EBFA;\n",
              "    box-shadow: 0px 1px 2px rgba(60, 64, 67, 0.3), 0px 1px 3px 1px rgba(60, 64, 67, 0.15);\n",
              "    fill: #174EA6;\n",
              "  }\n",
              "\n",
              "  [theme=dark] .colab-df-quickchart {\n",
              "    background-color: #3B4455;\n",
              "    fill: #D2E3FC;\n",
              "  }\n",
              "\n",
              "  [theme=dark] .colab-df-quickchart:hover {\n",
              "    background-color: #434B5C;\n",
              "    box-shadow: 0px 1px 3px 1px rgba(0, 0, 0, 0.15);\n",
              "    filter: drop-shadow(0px 1px 2px rgba(0, 0, 0, 0.3));\n",
              "    fill: #FFFFFF;\n",
              "  }\n",
              "</style>\n",
              "\n",
              "    <script>\n",
              "      async function quickchart(key) {\n",
              "        const containerElement = document.querySelector('#' + key);\n",
              "        const charts = await google.colab.kernel.invokeFunction(\n",
              "            'suggestCharts', [key], {});\n",
              "      }\n",
              "    </script>\n",
              "\n",
              "      <script>\n",
              "\n",
              "function displayQuickchartButton(domScope) {\n",
              "  let quickchartButtonEl =\n",
              "    domScope.querySelector('#df-a34dc1d8-c190-45f3-a0c3-9b7f802f0d1f button.colab-df-quickchart');\n",
              "  quickchartButtonEl.style.display =\n",
              "    google.colab.kernel.accessAllowed ? 'block' : 'none';\n",
              "}\n",
              "\n",
              "        displayQuickchartButton(document);\n",
              "      </script>\n",
              "      <style>\n",
              "    .colab-df-container {\n",
              "      display:flex;\n",
              "      flex-wrap:wrap;\n",
              "      gap: 12px;\n",
              "    }\n",
              "\n",
              "    .colab-df-convert {\n",
              "      background-color: #E8F0FE;\n",
              "      border: none;\n",
              "      border-radius: 50%;\n",
              "      cursor: pointer;\n",
              "      display: none;\n",
              "      fill: #1967D2;\n",
              "      height: 32px;\n",
              "      padding: 0 0 0 0;\n",
              "      width: 32px;\n",
              "    }\n",
              "\n",
              "    .colab-df-convert:hover {\n",
              "      background-color: #E2EBFA;\n",
              "      box-shadow: 0px 1px 2px rgba(60, 64, 67, 0.3), 0px 1px 3px 1px rgba(60, 64, 67, 0.15);\n",
              "      fill: #174EA6;\n",
              "    }\n",
              "\n",
              "    [theme=dark] .colab-df-convert {\n",
              "      background-color: #3B4455;\n",
              "      fill: #D2E3FC;\n",
              "    }\n",
              "\n",
              "    [theme=dark] .colab-df-convert:hover {\n",
              "      background-color: #434B5C;\n",
              "      box-shadow: 0px 1px 3px 1px rgba(0, 0, 0, 0.15);\n",
              "      filter: drop-shadow(0px 1px 2px rgba(0, 0, 0, 0.3));\n",
              "      fill: #FFFFFF;\n",
              "    }\n",
              "  </style>\n",
              "\n",
              "      <script>\n",
              "        const buttonEl =\n",
              "          document.querySelector('#df-25b816ef-790b-4a19-bb06-5033e8fa563a button.colab-df-convert');\n",
              "        buttonEl.style.display =\n",
              "          google.colab.kernel.accessAllowed ? 'block' : 'none';\n",
              "\n",
              "        async function convertToInteractive(key) {\n",
              "          const element = document.querySelector('#df-25b816ef-790b-4a19-bb06-5033e8fa563a');\n",
              "          const dataTable =\n",
              "            await google.colab.kernel.invokeFunction('convertToInteractive',\n",
              "                                                     [key], {});\n",
              "          if (!dataTable) return;\n",
              "\n",
              "          const docLinkHtml = 'Like what you see? Visit the ' +\n",
              "            '<a target=\"_blank\" href=https://colab.research.google.com/notebooks/data_table.ipynb>data table notebook</a>'\n",
              "            + ' to learn more about interactive tables.';\n",
              "          element.innerHTML = '';\n",
              "          dataTable['output_type'] = 'display_data';\n",
              "          await google.colab.output.renderOutput(dataTable, element);\n",
              "          const docLink = document.createElement('div');\n",
              "          docLink.innerHTML = docLinkHtml;\n",
              "          element.appendChild(docLink);\n",
              "        }\n",
              "      </script>\n",
              "    </div>\n",
              "  </div>\n"
            ]
          },
          "metadata": {},
          "execution_count": 8
        }
      ],
      "source": [
        "dados.drop(columns=['User ID'], inplace=True)\n",
        "dados.head()"
      ]
    },
    {
      "cell_type": "markdown",
      "source": [
        "Aqui, estamos reescrevendo numericamente os dados de _Gender_. Quando o indivíduo é um homem _Gender_ $=1$"
      ],
      "metadata": {
        "id": "a1y_8lJWOMBP"
      }
    },
    {
      "cell_type": "code",
      "execution_count": 9,
      "metadata": {
        "id": "QH_AEg6VHlMX",
        "outputId": "7d2a65df-a9d4-4316-8785-8cd77a0706c7",
        "colab": {
          "base_uri": "https://localhost:8080/",
          "height": 206
        }
      },
      "outputs": [
        {
          "output_type": "execute_result",
          "data": {
            "text/plain": [
              "  Gender  NumGender  Age  AnnualSalary BoolComprou  Purchased\n",
              "0   Male          1   35         20000         Não          0\n",
              "1   Male          1   40         43500         Não          0\n",
              "2   Male          1   49         74000         Não          0\n",
              "3   Male          1   40        107500         Sim          1\n",
              "4   Male          1   25         79000         Não          0"
            ],
            "text/html": [
              "\n",
              "\n",
              "  <div id=\"df-36f1911e-6798-49ff-b385-d4b970a0c63a\">\n",
              "    <div class=\"colab-df-container\">\n",
              "      <div>\n",
              "<style scoped>\n",
              "    .dataframe tbody tr th:only-of-type {\n",
              "        vertical-align: middle;\n",
              "    }\n",
              "\n",
              "    .dataframe tbody tr th {\n",
              "        vertical-align: top;\n",
              "    }\n",
              "\n",
              "    .dataframe thead th {\n",
              "        text-align: right;\n",
              "    }\n",
              "</style>\n",
              "<table border=\"1\" class=\"dataframe\">\n",
              "  <thead>\n",
              "    <tr style=\"text-align: right;\">\n",
              "      <th></th>\n",
              "      <th>Gender</th>\n",
              "      <th>NumGender</th>\n",
              "      <th>Age</th>\n",
              "      <th>AnnualSalary</th>\n",
              "      <th>BoolComprou</th>\n",
              "      <th>Purchased</th>\n",
              "    </tr>\n",
              "  </thead>\n",
              "  <tbody>\n",
              "    <tr>\n",
              "      <th>0</th>\n",
              "      <td>Male</td>\n",
              "      <td>1</td>\n",
              "      <td>35</td>\n",
              "      <td>20000</td>\n",
              "      <td>Não</td>\n",
              "      <td>0</td>\n",
              "    </tr>\n",
              "    <tr>\n",
              "      <th>1</th>\n",
              "      <td>Male</td>\n",
              "      <td>1</td>\n",
              "      <td>40</td>\n",
              "      <td>43500</td>\n",
              "      <td>Não</td>\n",
              "      <td>0</td>\n",
              "    </tr>\n",
              "    <tr>\n",
              "      <th>2</th>\n",
              "      <td>Male</td>\n",
              "      <td>1</td>\n",
              "      <td>49</td>\n",
              "      <td>74000</td>\n",
              "      <td>Não</td>\n",
              "      <td>0</td>\n",
              "    </tr>\n",
              "    <tr>\n",
              "      <th>3</th>\n",
              "      <td>Male</td>\n",
              "      <td>1</td>\n",
              "      <td>40</td>\n",
              "      <td>107500</td>\n",
              "      <td>Sim</td>\n",
              "      <td>1</td>\n",
              "    </tr>\n",
              "    <tr>\n",
              "      <th>4</th>\n",
              "      <td>Male</td>\n",
              "      <td>1</td>\n",
              "      <td>25</td>\n",
              "      <td>79000</td>\n",
              "      <td>Não</td>\n",
              "      <td>0</td>\n",
              "    </tr>\n",
              "  </tbody>\n",
              "</table>\n",
              "</div>\n",
              "      <button class=\"colab-df-convert\" onclick=\"convertToInteractive('df-36f1911e-6798-49ff-b385-d4b970a0c63a')\"\n",
              "              title=\"Convert this dataframe to an interactive table.\"\n",
              "              style=\"display:none;\">\n",
              "\n",
              "  <svg xmlns=\"http://www.w3.org/2000/svg\" height=\"24px\"viewBox=\"0 0 24 24\"\n",
              "       width=\"24px\">\n",
              "    <path d=\"M0 0h24v24H0V0z\" fill=\"none\"/>\n",
              "    <path d=\"M18.56 5.44l.94 2.06.94-2.06 2.06-.94-2.06-.94-.94-2.06-.94 2.06-2.06.94zm-11 1L8.5 8.5l.94-2.06 2.06-.94-2.06-.94L8.5 2.5l-.94 2.06-2.06.94zm10 10l.94 2.06.94-2.06 2.06-.94-2.06-.94-.94-2.06-.94 2.06-2.06.94z\"/><path d=\"M17.41 7.96l-1.37-1.37c-.4-.4-.92-.59-1.43-.59-.52 0-1.04.2-1.43.59L10.3 9.45l-7.72 7.72c-.78.78-.78 2.05 0 2.83L4 21.41c.39.39.9.59 1.41.59.51 0 1.02-.2 1.41-.59l7.78-7.78 2.81-2.81c.8-.78.8-2.07 0-2.86zM5.41 20L4 18.59l7.72-7.72 1.47 1.35L5.41 20z\"/>\n",
              "  </svg>\n",
              "      </button>\n",
              "\n",
              "\n",
              "\n",
              "    <div id=\"df-7fc8c654-a653-4e58-bcb0-9ab893a8bf1b\">\n",
              "      <button class=\"colab-df-quickchart\" onclick=\"quickchart('df-7fc8c654-a653-4e58-bcb0-9ab893a8bf1b')\"\n",
              "              title=\"Suggest charts.\"\n",
              "              style=\"display:none;\">\n",
              "\n",
              "<svg xmlns=\"http://www.w3.org/2000/svg\" height=\"24px\"viewBox=\"0 0 24 24\"\n",
              "     width=\"24px\">\n",
              "    <g>\n",
              "        <path d=\"M19 3H5c-1.1 0-2 .9-2 2v14c0 1.1.9 2 2 2h14c1.1 0 2-.9 2-2V5c0-1.1-.9-2-2-2zM9 17H7v-7h2v7zm4 0h-2V7h2v10zm4 0h-2v-4h2v4z\"/>\n",
              "    </g>\n",
              "</svg>\n",
              "      </button>\n",
              "    </div>\n",
              "\n",
              "<style>\n",
              "  .colab-df-quickchart {\n",
              "    background-color: #E8F0FE;\n",
              "    border: none;\n",
              "    border-radius: 50%;\n",
              "    cursor: pointer;\n",
              "    display: none;\n",
              "    fill: #1967D2;\n",
              "    height: 32px;\n",
              "    padding: 0 0 0 0;\n",
              "    width: 32px;\n",
              "  }\n",
              "\n",
              "  .colab-df-quickchart:hover {\n",
              "    background-color: #E2EBFA;\n",
              "    box-shadow: 0px 1px 2px rgba(60, 64, 67, 0.3), 0px 1px 3px 1px rgba(60, 64, 67, 0.15);\n",
              "    fill: #174EA6;\n",
              "  }\n",
              "\n",
              "  [theme=dark] .colab-df-quickchart {\n",
              "    background-color: #3B4455;\n",
              "    fill: #D2E3FC;\n",
              "  }\n",
              "\n",
              "  [theme=dark] .colab-df-quickchart:hover {\n",
              "    background-color: #434B5C;\n",
              "    box-shadow: 0px 1px 3px 1px rgba(0, 0, 0, 0.15);\n",
              "    filter: drop-shadow(0px 1px 2px rgba(0, 0, 0, 0.3));\n",
              "    fill: #FFFFFF;\n",
              "  }\n",
              "</style>\n",
              "\n",
              "    <script>\n",
              "      async function quickchart(key) {\n",
              "        const containerElement = document.querySelector('#' + key);\n",
              "        const charts = await google.colab.kernel.invokeFunction(\n",
              "            'suggestCharts', [key], {});\n",
              "      }\n",
              "    </script>\n",
              "\n",
              "      <script>\n",
              "\n",
              "function displayQuickchartButton(domScope) {\n",
              "  let quickchartButtonEl =\n",
              "    domScope.querySelector('#df-7fc8c654-a653-4e58-bcb0-9ab893a8bf1b button.colab-df-quickchart');\n",
              "  quickchartButtonEl.style.display =\n",
              "    google.colab.kernel.accessAllowed ? 'block' : 'none';\n",
              "}\n",
              "\n",
              "        displayQuickchartButton(document);\n",
              "      </script>\n",
              "      <style>\n",
              "    .colab-df-container {\n",
              "      display:flex;\n",
              "      flex-wrap:wrap;\n",
              "      gap: 12px;\n",
              "    }\n",
              "\n",
              "    .colab-df-convert {\n",
              "      background-color: #E8F0FE;\n",
              "      border: none;\n",
              "      border-radius: 50%;\n",
              "      cursor: pointer;\n",
              "      display: none;\n",
              "      fill: #1967D2;\n",
              "      height: 32px;\n",
              "      padding: 0 0 0 0;\n",
              "      width: 32px;\n",
              "    }\n",
              "\n",
              "    .colab-df-convert:hover {\n",
              "      background-color: #E2EBFA;\n",
              "      box-shadow: 0px 1px 2px rgba(60, 64, 67, 0.3), 0px 1px 3px 1px rgba(60, 64, 67, 0.15);\n",
              "      fill: #174EA6;\n",
              "    }\n",
              "\n",
              "    [theme=dark] .colab-df-convert {\n",
              "      background-color: #3B4455;\n",
              "      fill: #D2E3FC;\n",
              "    }\n",
              "\n",
              "    [theme=dark] .colab-df-convert:hover {\n",
              "      background-color: #434B5C;\n",
              "      box-shadow: 0px 1px 3px 1px rgba(0, 0, 0, 0.15);\n",
              "      filter: drop-shadow(0px 1px 2px rgba(0, 0, 0, 0.3));\n",
              "      fill: #FFFFFF;\n",
              "    }\n",
              "  </style>\n",
              "\n",
              "      <script>\n",
              "        const buttonEl =\n",
              "          document.querySelector('#df-36f1911e-6798-49ff-b385-d4b970a0c63a button.colab-df-convert');\n",
              "        buttonEl.style.display =\n",
              "          google.colab.kernel.accessAllowed ? 'block' : 'none';\n",
              "\n",
              "        async function convertToInteractive(key) {\n",
              "          const element = document.querySelector('#df-36f1911e-6798-49ff-b385-d4b970a0c63a');\n",
              "          const dataTable =\n",
              "            await google.colab.kernel.invokeFunction('convertToInteractive',\n",
              "                                                     [key], {});\n",
              "          if (!dataTable) return;\n",
              "\n",
              "          const docLinkHtml = 'Like what you see? Visit the ' +\n",
              "            '<a target=\"_blank\" href=https://colab.research.google.com/notebooks/data_table.ipynb>data table notebook</a>'\n",
              "            + ' to learn more about interactive tables.';\n",
              "          element.innerHTML = '';\n",
              "          dataTable['output_type'] = 'display_data';\n",
              "          await google.colab.output.renderOutput(dataTable, element);\n",
              "          const docLink = document.createElement('div');\n",
              "          docLink.innerHTML = docLinkHtml;\n",
              "          element.appendChild(docLink);\n",
              "        }\n",
              "      </script>\n",
              "    </div>\n",
              "  </div>\n"
            ]
          },
          "metadata": {},
          "execution_count": 9
        }
      ],
      "source": [
        "dados['NumGender'] = dados['Gender'].replace({'Male':1, 'Female':0})\n",
        "dados['BoolComprou'] = dados['Purchased'].replace({0:'Não', 1:'Sim'})\n",
        "dados = dados[['Gender', 'NumGender', 'Age', 'AnnualSalary', 'BoolComprou','Purchased']]\n",
        "dados.head()"
      ]
    },
    {
      "cell_type": "markdown",
      "source": [
        "Para escolher as covariáveis do modelo, vamos observar a matriz de correlação abaixo."
      ],
      "metadata": {
        "id": "mam9VdukOwpn"
      }
    },
    {
      "cell_type": "code",
      "execution_count": 73,
      "metadata": {
        "id": "28Bc0yVZHlMY",
        "outputId": "b17336c6-4c0b-4e0a-e63f-a04309998498",
        "colab": {
          "base_uri": "https://localhost:8080/",
          "height": 588
        }
      },
      "outputs": [
        {
          "output_type": "stream",
          "name": "stderr",
          "text": [
            "<ipython-input-73-11c4cbddfd2f>:2: FutureWarning: The default value of numeric_only in DataFrame.corr is deprecated. In a future version, it will default to False. Select only valid columns or specify the value of numeric_only to silence this warning.\n",
            "  sns.heatmap(dados.corr(), cmap='coolwarm', vmin=-1, vmax=1, annot=True)\n"
          ]
        },
        {
          "output_type": "display_data",
          "data": {
            "text/plain": [
              "<Figure size 800x600 with 2 Axes>"
            ],
            "image/png": "[encoded data removed]"
          },
          "metadata": {}
        }
      ],
      "source": [
        "sns.set(rc={'figure.figsize':(8,6)})\n",
        "sns.heatmap(dados.corr(), cmap='coolwarm', vmin=-1, vmax=1, annot=True)\n",
        "plt.show()"
      ]
    },
    {
      "cell_type": "markdown",
      "source": [
        "Percebemos que principalmente a Idade, mas também o Salário Anual parecem ter correlações significativas com a compra de um carro. Gênero, entretanto, não parece ter relação com a variável resposta."
      ],
      "metadata": {
        "id": "TKKSEiXCPEsc"
      }
    },
    {
      "cell_type": "code",
      "execution_count": null,
      "metadata": {
        "id": "AJYTS56xHlMY",
        "outputId": "9a3d0c06-d21b-4d47-f569-37a6028b90f8"
      },
      "outputs": [
        {
          "data": {
            "image/png": "[encoded data removed]",
            "text/plain": [
              "<Figure size 600x300 with 2 Axes>"
            ]
          },
          "metadata": {},
          "output_type": "display_data"
        }
      ],
      "source": [
        "df = pd.melt(dados, dados.columns[-1], dados.columns[2:-2])\n",
        "\n",
        "sns.set(style='ticks', color_codes=True)\n",
        "g = sns.FacetGrid(df, col=\"variable\", hue=\"Purchased\", col_wrap=2, sharex=False, sharey=False)\n",
        "g.map(sns.kdeplot, \"value\", fill=True)\n",
        "\n",
        "labels= dados['BoolComprou'].unique()\n",
        "colors = sns.color_palette('deep').as_hex()[:len(labels)]\n",
        "handles = [Patches.Patch(color=col, label=lab) for col,lab in zip(colors, labels)]\n",
        "plt.legend(handles=handles, title='Comprou', loc='center left', bbox_to_anchor=(1,0.75))\n",
        "\n",
        "plt.show()"
      ]
    },
    {
      "cell_type": "markdown",
      "source": [
        "Nesse gráfico, podemos ver que a idade parece ter uma dispersão parecida para os indivíduos que compram e que não compram carros. A diferença maior é a média dos dois, em torno de 30 anos para quem não compra e de 50 para os que compram. Então, percebemos que pessoas mais novas não costumam comprar e pessoas mais velhas o fazem.\n",
        "\n",
        "O salário anual, entretanto, comporta-se de outra maneira. O salário dos não-compradores se concentra em torno de um valor 'não muito alto' enquanto que o salário dos compradores é mais disperso e apresenta apenas uma queda ao se aproximar do valor médio do outro grupo.\n",
        "\n",
        "De modo geral, parece que não comprar um carro pode ser explicado por seu salário anual (distribuição azul, concentrada em valores baixos). Contudo as pessoas que compram carros não aparentam ter um padrão salarial bem definido."
      ],
      "metadata": {
        "id": "QKEjShTkPjZv"
      }
    },
    {
      "cell_type": "code",
      "execution_count": 16,
      "metadata": {
        "id": "2ALCdgCeHlMZ",
        "outputId": "d8a5ed66-9538-4fc0-bcaa-d5806ed595c2",
        "colab": {
          "base_uri": "https://localhost:8080/",
          "height": 396
        }
      },
      "outputs": [
        {
          "output_type": "display_data",
          "data": {
            "text/plain": [
              "<Figure size 600x400 with 1 Axes>"
            ],
            "image/png": "[encoded data removed]"
          },
          "metadata": {}
        }
      ],
      "source": [
        "dados_agrupado = dados.groupby('Gender')[['Purchased']].sum()\n",
        "\n",
        "gender_count = dados['Gender'].value_counts()\n",
        "\n",
        "dados_agrupado['Taxa_compra'] = dados_agrupado['Purchased'] / gender_count\n",
        "\n",
        "dados_agrupado.reset_index(inplace=True)\n",
        "plt.figure(figsize = (6,4))\n",
        "sns.barplot(data=dados_agrupado, x='Gender', y='Taxa_compra')\n",
        "plt.show()"
      ]
    },
    {
      "cell_type": "markdown",
      "source": [
        "Assim como as observações da correlação, esse barplot indica que não há uma relação forte entre gênero e a compra de um carro."
      ],
      "metadata": {
        "id": "0CuiqFQwSj76"
      }
    },
    {
      "cell_type": "markdown",
      "source": [
        "## Aplicando e interpretando a Regressão 📈<a class='anchor' id='regressao'></a> [↑](#top)"
      ],
      "metadata": {
        "id": "2CVSsjZCWQ9U"
      }
    },
    {
      "cell_type": "markdown",
      "source": [
        "Como a idade é a covariável mais correlacionada com a variável resposta e seu gráfico de densidades parece distinguir melhor compradores e não-compradores, essa será a primeira covariável incluída no modelo:"
      ],
      "metadata": {
        "id": "4AwQbxcTTRhf"
      }
    },
    {
      "cell_type": "code",
      "execution_count": 18,
      "metadata": {
        "id": "Tf_McFQRHlMd",
        "outputId": "fb461c46-3552-43e4-da73-ae693dc13728",
        "colab": {
          "base_uri": "https://localhost:8080/"
        }
      },
      "outputs": [
        {
          "output_type": "stream",
          "name": "stdout",
          "text": [
            "                 Generalized Linear Model Regression Results                  \n",
            "==============================================================================\n",
            "Dep. Variable:              Purchased   No. Observations:                 1000\n",
            "Model:                            GLM   Df Residuals:                      998\n",
            "Model Family:                Binomial   Df Model:                            1\n",
            "Link Function:                  Logit   Scale:                          1.0000\n",
            "Method:                          IRLS   Log-Likelihood:                -443.18\n",
            "Date:                Mon, 10 Jul 2023   Deviance:                       886.37\n",
            "Time:                        19:34:07   Pearson chi2:                     986.\n",
            "No. Iterations:                     5   Pseudo R-squ. (CS):             0.3695\n",
            "Covariance Type:            nonrobust                                         \n",
            "==============================================================================\n",
            "                 coef    std err          z      P>|z|      [0.025      0.975]\n",
            "------------------------------------------------------------------------------\n",
            "Intercept     -7.9665      0.500    -15.923      0.000      -8.947      -6.986\n",
            "Age            0.1827      0.012     15.579      0.000       0.160       0.206\n",
            "==============================================================================\n",
            "Deviance normalizado: 0.8881449278212743 \n",
            "AIC: 890.3686379656316\n"
          ]
        }
      ],
      "source": [
        "regressao = smf.glm('Purchased ~ Age', data=dados, family=sm.families.Binomial()).fit()\n",
        "\n",
        "print(regressao.summary())\n",
        "print(f'Deviance normalizado: {regressao.deviance / regressao.df_resid} \\nAIC: {regressao.aic}')"
      ]
    },
    {
      "cell_type": "markdown",
      "source": [
        "Note que a estatística `Pseudo R-squ` é de $0.3965$, ou seja, ainda podemos melhorar o modelo, mesmo que a regressão seja significativa, fato indicado pelo Deviance menor que 1 e p-valores baixos."
      ],
      "metadata": {
        "id": "IJ05FUUQUBVQ"
      }
    },
    {
      "cell_type": "code",
      "execution_count": 19,
      "metadata": {
        "id": "NbOm5mEKHlMe",
        "outputId": "d7b1e29e-fee4-44a7-a42f-2b214b8a37aa",
        "colab": {
          "base_uri": "https://localhost:8080/",
          "height": 413
        }
      },
      "outputs": [
        {
          "output_type": "execute_result",
          "data": {
            "text/plain": [
              "<Axes: xlabel='Age', ylabel='Purchased'>"
            ]
          },
          "metadata": {},
          "execution_count": 19
        },
        {
          "output_type": "display_data",
          "data": {
            "text/plain": [
              "<Figure size 800x400 with 1 Axes>"
            ],
            "image/png": "[encoded data removed]"
          },
          "metadata": {}
        }
      ],
      "source": [
        "plt.figure(figsize = (8,4))\n",
        "sns.regplot(data=dados, x='Age', y='Purchased', logistic=True)"
      ]
    },
    {
      "cell_type": "markdown",
      "source": [
        "Para a segunda covariável inclusa, escolhemos o salário anual, porque ainda tem uma correlação significativa e parece identificar bem os não-compradores."
      ],
      "metadata": {
        "id": "vgcxp-xcT1Fy"
      }
    },
    {
      "cell_type": "code",
      "execution_count": 42,
      "metadata": {
        "id": "3C4C6-eqHlMe",
        "outputId": "adf24ae5-29c1-4533-c319-b927bac7be3c",
        "colab": {
          "base_uri": "https://localhost:8080/"
        }
      },
      "outputs": [
        {
          "output_type": "stream",
          "name": "stdout",
          "text": [
            "                 Generalized Linear Model Regression Results                  \n",
            "==============================================================================\n",
            "Dep. Variable:              Purchased   No. Observations:                 1000\n",
            "Model:                            GLM   Df Residuals:                      997\n",
            "Model Family:                Binomial   Df Model:                            2\n",
            "Link Function:                  Logit   Scale:                          1.0000\n",
            "Method:                          IRLS   Log-Likelihood:                -372.97\n",
            "Date:                Mon, 10 Jul 2023   Deviance:                       745.93\n",
            "Time:                        20:28:26   Pearson chi2:                 1.08e+03\n",
            "No. Iterations:                     6   Pseudo R-squ. (CS):             0.4521\n",
            "Covariance Type:            nonrobust                                         \n",
            "================================================================================\n",
            "                   coef    std err          z      P>|z|      [0.025      0.975]\n",
            "--------------------------------------------------------------------------------\n",
            "Intercept      -11.8442      0.769    -15.399      0.000     -13.352     -10.337\n",
            "Age              0.2161      0.015     14.520      0.000       0.187       0.245\n",
            "AnnualSalary  3.325e-05   3.21e-06     10.344      0.000     2.7e-05    3.96e-05\n",
            "================================================================================\n",
            "Deviance normalizado: 0.7481770668440473 \n",
            "AIC: 751.9325356435152\n"
          ]
        }
      ],
      "source": [
        "regressao2 = smf.glm('Purchased ~ Age + AnnualSalary', data=dados, family=sm.families.Binomial()).fit()\n",
        "\n",
        "print(regressao2.summary())\n",
        "print(f'Deviance normalizado: {regressao2.deviance / regressao2.df_resid} \\nAIC: {regressao2.aic}')"
      ]
    },
    {
      "cell_type": "markdown",
      "source": [
        "A segunda covariável aparenta ser significativa também, pois seu p-valor é baixo.\n",
        "\n",
        "Além disso, o `pseudo-Rsqu` aumentou e tanto AIC quanto Deviance diminuiram em relação ao modelo sem essa covariável.\n",
        "\n",
        "\n",
        "Adicionando, por fim, a covariável de gênero:"
      ],
      "metadata": {
        "id": "kVepbuo0Udj6"
      }
    },
    {
      "cell_type": "code",
      "execution_count": 36,
      "metadata": {
        "id": "UHtXsthoHlMf",
        "outputId": "789dd915-8bff-4172-cf98-148d3bb58810",
        "colab": {
          "base_uri": "https://localhost:8080/"
        }
      },
      "outputs": [
        {
          "output_type": "stream",
          "name": "stdout",
          "text": [
            "                 Generalized Linear Model Regression Results                  \n",
            "==============================================================================\n",
            "Dep. Variable:              Purchased   No. Observations:                 1000\n",
            "Model:                            GLM   Df Residuals:                      996\n",
            "Model Family:                Binomial   Df Model:                            3\n",
            "Link Function:                  Logit   Scale:                          1.0000\n",
            "Method:                          IRLS   Log-Likelihood:                -371.48\n",
            "Date:                Mon, 10 Jul 2023   Deviance:                       742.96\n",
            "Time:                        20:01:30   Pearson chi2:                 1.07e+03\n",
            "No. Iterations:                     6   Pseudo R-squ. (CS):             0.4537\n",
            "Covariance Type:            nonrobust                                         \n",
            "==================================================================================\n",
            "                     coef    std err          z      P>|z|      [0.025      0.975]\n",
            "----------------------------------------------------------------------------------\n",
            "Intercept        -12.1788      0.805    -15.131      0.000     -13.756     -10.601\n",
            "Gender[T.Male]     0.3184      0.186      1.716      0.086      -0.045       0.682\n",
            "Age                0.2195      0.015     14.471      0.000       0.190       0.249\n",
            "AnnualSalary     3.37e-05   3.23e-06     10.426      0.000    2.74e-05       4e-05\n",
            "==================================================================================\n",
            "Deviance normalizado: 0.7459421047751262 \n",
            "AIC: 750.9583363560258\n"
          ]
        }
      ],
      "source": [
        "regressao3 = smf.glm('Purchased ~ Age + AnnualSalary + Gender', data=dados, family=sm.families.Binomial()).fit()\n",
        "\n",
        "print(regressao3.summary())\n",
        "print(f'Deviance normalizado: {regressao3.deviance / regressao3.df_resid} \\nAIC: {regressao3.aic}')\n"
      ]
    },
    {
      "cell_type": "markdown",
      "source": [
        "Apesar da correlação do gênero ser baixa, o AIC diminuiu o que é um indicativo de que o modelo melhorou, mesmo que pouco."
      ],
      "metadata": {
        "id": "szNpx2bZVCW8"
      }
    },
    {
      "cell_type": "markdown",
      "source": [
        "### Modelos com Interação\n",
        "\n",
        "Primeiro, vamos testar a interação do _Gender_ com as outras duas covariáveis:"
      ],
      "metadata": {
        "id": "bsIpe2WfX3Zu"
      }
    },
    {
      "cell_type": "code",
      "source": [
        "regressao4 = smf.glm('Purchased ~ Age + Gender * AnnualSalary', data=dados, family=sm.families.Binomial()).fit()\n",
        "\n",
        "print(regressao4.summary())\n",
        "print(f'Deviance normalizado: {regressao4.deviance / regressao4.df_resid} \\nAIC: {regressao4.aic}')"
      ],
      "metadata": {
        "colab": {
          "base_uri": "https://localhost:8080/"
        },
        "id": "-LCLypmWXNFC",
        "outputId": "4f869123-af4d-4ed6-ebc0-689a84e32ce1"
      },
      "execution_count": 37,
      "outputs": [
        {
          "output_type": "stream",
          "name": "stdout",
          "text": [
            "                 Generalized Linear Model Regression Results                  \n",
            "==============================================================================\n",
            "Dep. Variable:              Purchased   No. Observations:                 1000\n",
            "Model:                            GLM   Df Residuals:                      995\n",
            "Model Family:                Binomial   Df Model:                            4\n",
            "Link Function:                  Logit   Scale:                          1.0000\n",
            "Method:                          IRLS   Log-Likelihood:                -370.88\n",
            "Date:                Mon, 10 Jul 2023   Deviance:                       741.76\n",
            "Time:                        20:01:35   Pearson chi2:                 1.08e+03\n",
            "No. Iterations:                     6   Pseudo R-squ. (CS):             0.4544\n",
            "Covariance Type:            nonrobust                                         \n",
            "===============================================================================================\n",
            "                                  coef    std err          z      P>|z|      [0.025      0.975]\n",
            "-----------------------------------------------------------------------------------------------\n",
            "Intercept                     -11.9717      0.821    -14.583      0.000     -13.581     -10.363\n",
            "Gender[T.Male]                 -0.1439      0.463     -0.311      0.756      -1.051       0.763\n",
            "Age                             0.2194      0.015     14.485      0.000       0.190       0.249\n",
            "AnnualSalary                 3.099e-05   4.02e-06      7.707      0.000    2.31e-05    3.89e-05\n",
            "Gender[T.Male]:AnnualSalary  6.337e-06   5.81e-06      1.090      0.276   -5.06e-06    1.77e-05\n",
            "===============================================================================================\n",
            "Deviance normalizado: 0.7454902915353575 \n",
            "AIC: 751.7628400776807\n"
          ]
        }
      ]
    },
    {
      "cell_type": "markdown",
      "source": [
        "Como podemos ver, a interação entre gênero e salário não é significativa, a partir dos p-valores. Apesar de o Deviance diminuir, o AIC está aumentando, ou seja, estamos complicando o modelo sem ganhar com isso.\n",
        "\n",
        "Agora, vamos ver a interação entre idade e salário anual:"
      ],
      "metadata": {
        "id": "SzX8jF3YYFDk"
      }
    },
    {
      "cell_type": "code",
      "source": [
        "regressao5a = smf.glm('Purchased ~ AnnualSalary * Age', data=dados, family=sm.families.Binomial()).fit()\n",
        "\n",
        "print(regressao5a.summary())\n",
        "print(f'Deviance normalizado: {regressao5a.deviance / regressao5a.df_resid} \\nAIC: {regressao5a.aic}')"
      ],
      "metadata": {
        "colab": {
          "base_uri": "https://localhost:8080/"
        },
        "id": "Dctmwe54aqqc",
        "outputId": "f70262c5-4410-45ca-9be9-87bc126341fd"
      },
      "execution_count": 40,
      "outputs": [
        {
          "output_type": "stream",
          "name": "stdout",
          "text": [
            "                 Generalized Linear Model Regression Results                  \n",
            "==============================================================================\n",
            "Dep. Variable:              Purchased   No. Observations:                 1000\n",
            "Model:                            GLM   Df Residuals:                      996\n",
            "Model Family:                Binomial   Df Model:                            3\n",
            "Link Function:                  Logit   Scale:                          1.0000\n",
            "Method:                          IRLS   Log-Likelihood:                -299.52\n",
            "Date:                Mon, 10 Jul 2023   Deviance:                       599.04\n",
            "Time:                        20:07:57   Pearson chi2:                 2.59e+03\n",
            "No. Iterations:                     7   Pseudo R-squ. (CS):             0.5270\n",
            "Covariance Type:            nonrobust                                         \n",
            "====================================================================================\n",
            "                       coef    std err          z      P>|z|      [0.025      0.975]\n",
            "------------------------------------------------------------------------------------\n",
            "Intercept          -34.0955      2.656    -12.838      0.000     -39.301     -28.890\n",
            "AnnualSalary         0.0003   2.55e-05     11.006      0.000       0.000       0.000\n",
            "Age                  0.7087      0.057     12.397      0.000       0.597       0.821\n",
            "AnnualSalary:Age -5.546e-06    5.4e-07    -10.268      0.000    -6.6e-06   -4.49e-06\n",
            "====================================================================================\n",
            "Deviance normalizado: 0.6014452740637876 \n",
            "AIC: 607.0394929675322\n"
          ]
        }
      ]
    },
    {
      "cell_type": "code",
      "source": [
        "regressao5 = smf.glm('Purchased ~ Gender + AnnualSalary * Age', data=dados, family=sm.families.Binomial()).fit()\n",
        "\n",
        "print(regressao5.summary())\n",
        "print(f'Deviance normalizado: {regressao5.deviance / regressao5.df_resid} \\nAIC: {regressao5.aic}')"
      ],
      "metadata": {
        "colab": {
          "base_uri": "https://localhost:8080/"
        },
        "id": "DaJ4LgtgXalk",
        "outputId": "ce01c414-9982-4136-ba3c-b494be085141"
      },
      "execution_count": 39,
      "outputs": [
        {
          "output_type": "stream",
          "name": "stdout",
          "text": [
            "                 Generalized Linear Model Regression Results                  \n",
            "==============================================================================\n",
            "Dep. Variable:              Purchased   No. Observations:                 1000\n",
            "Model:                            GLM   Df Residuals:                      995\n",
            "Model Family:                Binomial   Df Model:                            4\n",
            "Link Function:                  Logit   Scale:                          1.0000\n",
            "Method:                          IRLS   Log-Likelihood:                -295.71\n",
            "Date:                Mon, 10 Jul 2023   Deviance:                       591.42\n",
            "Time:                        20:04:31   Pearson chi2:                 2.45e+03\n",
            "No. Iterations:                     7   Pseudo R-squ. (CS):             0.5306\n",
            "Covariance Type:            nonrobust                                         \n",
            "====================================================================================\n",
            "                       coef    std err          z      P>|z|      [0.025      0.975]\n",
            "------------------------------------------------------------------------------------\n",
            "Intercept          -35.6032      2.798    -12.724      0.000     -41.087     -30.119\n",
            "Gender[T.Male]       0.5860      0.216      2.718      0.007       0.163       1.009\n",
            "AnnualSalary         0.0003   2.65e-05     10.976      0.000       0.000       0.000\n",
            "Age                  0.7336      0.060     12.323      0.000       0.617       0.850\n",
            "AnnualSalary:Age -5.745e-06    5.6e-07    -10.260      0.000   -6.84e-06   -4.65e-06\n",
            "====================================================================================\n",
            "Deviance normalizado: 0.5943907282256441 \n",
            "AIC: 601.4187745845159\n"
          ]
        }
      ]
    },
    {
      "cell_type": "markdown",
      "source": [
        "Note que o AIC e o Deviance diminuiram bastante enquanto o pseudo $R^2$ aumentou, mostrando que a interação é muito significativa. Além disso, a covariável _Gender_ passou a explicar bem a variável resposta quando colocamos a interação.\n",
        "\n",
        "Agora vamos testar o modelo com interação entre todas as covariáveis:"
      ],
      "metadata": {
        "id": "XJrwUKv2Zz6r"
      }
    },
    {
      "cell_type": "code",
      "source": [
        "regressao6 = smf.glm('Purchased ~ Gender * AnnualSalary * Age', data=dados, family=sm.families.Binomial()).fit()\n",
        "\n",
        "print(regressao6.summary())\n",
        "print(f'Deviance normalizado: {regressao6.deviance / regressao6.df_resid} \\nAIC: {regressao6.aic}')"
      ],
      "metadata": {
        "colab": {
          "base_uri": "https://localhost:8080/"
        },
        "id": "Yns8S1aOYrWr",
        "outputId": "764f8dad-7380-4e15-fd51-73431130b3e6"
      },
      "execution_count": 32,
      "outputs": [
        {
          "output_type": "stream",
          "name": "stdout",
          "text": [
            "                 Generalized Linear Model Regression Results                  \n",
            "==============================================================================\n",
            "Dep. Variable:              Purchased   No. Observations:                 1000\n",
            "Model:                            GLM   Df Residuals:                      992\n",
            "Model Family:                Binomial   Df Model:                            7\n",
            "Link Function:                  Logit   Scale:                          1.0000\n",
            "Method:                          IRLS   Log-Likelihood:                -292.12\n",
            "Date:                Mon, 10 Jul 2023   Deviance:                       584.24\n",
            "Time:                        19:59:16   Pearson chi2:                 1.20e+03\n",
            "No. Iterations:                     8   Pseudo R-squ. (CS):             0.5339\n",
            "Covariance Type:            nonrobust                                         \n",
            "===================================================================================================\n",
            "                                      coef    std err          z      P>|z|      [0.025      0.975]\n",
            "---------------------------------------------------------------------------------------------------\n",
            "Intercept                         -29.3361      3.307     -8.872      0.000     -35.817     -22.855\n",
            "Gender[T.Male]                    -14.3745      5.748     -2.501      0.012     -25.640      -3.109\n",
            "AnnualSalary                        0.0002   3.19e-05      7.328      0.000       0.000       0.000\n",
            "Gender[T.Male]:AnnualSalary         0.0001   5.47e-05      2.521      0.012    3.07e-05       0.000\n",
            "Age                                 0.5991      0.071      8.498      0.000       0.461       0.737\n",
            "Gender[T.Male]:Age                  0.3233      0.123      2.619      0.009       0.081       0.565\n",
            "AnnualSalary:Age                -4.519e-06   6.76e-07     -6.684      0.000   -5.84e-06   -3.19e-06\n",
            "Gender[T.Male]:AnnualSalary:Age -2.919e-06   1.15e-06     -2.547      0.011   -5.17e-06   -6.73e-07\n",
            "===================================================================================================\n",
            "Deviance normalizado: 0.5889562959444103 \n",
            "AIC: 600.244645576855\n"
          ]
        }
      ]
    },
    {
      "cell_type": "markdown",
      "source": [
        "O modelo \"cheio\", apesar de parecer mais complexo, mostra-se significativo pois diminui, em especial, o AIC da regressão. Como o AIC penaliza a adição de novos parâmetros, ele deveria aumentar nesse modelo com todas as interações caso as interações não fossem importantes. Como aconteceu justamente o contrário, as interações são significativas."
      ],
      "metadata": {
        "id": "Gups11BUayPu"
      }
    },
    {
      "cell_type": "markdown",
      "source": [
        "### Razão Chance\n",
        "\n",
        "$\\beta_j = \\ln(RC) ⇒ RC = e^{\\beta_j}$\n",
        "\n",
        "A razão de chances nos diz qual é a variação da probabilidade de se comprar um carro quando aumentamos em uma unidade cada covariável e cada interação (considerando o modelo mais cheio)."
      ],
      "metadata": {
        "id": "WAOen-VjggsH"
      }
    },
    {
      "cell_type": "code",
      "execution_count": 59,
      "metadata": {
        "id": "WSa9vhhSHlMk",
        "outputId": "c1f3cae3-a781-47a8-e4be-0e5b4da63558",
        "colab": {
          "base_uri": "https://localhost:8080/"
        }
      },
      "outputs": [
        {
          "output_type": "execute_result",
          "data": {
            "text/plain": [
              "Gender[T.Male]                     5.717938e-07\n",
              "AnnualSalary                       1.000234e+00\n",
              "Gender[T.Male]:AnnualSalary        1.000138e+00\n",
              "Age                                1.820521e+00\n",
              "Gender[T.Male]:Age                 1.381716e+00\n",
              "AnnualSalary:Age                   9.999955e-01\n",
              "Gender[T.Male]:AnnualSalary:Age    9.999971e-01\n",
              "dtype: float64"
            ]
          },
          "metadata": {},
          "execution_count": 59
        }
      ],
      "source": [
        "np.exp(regressao6.params[1:])"
      ]
    },
    {
      "cell_type": "markdown",
      "source": [
        "Como não faz sentido falar em RC para o intercepto, calculamos apenas para os demais parâmetros.\n",
        "\n",
        "Para todas as variáveis, exceto o _Gender_ sem interação, a RC é muito próxima ou maior que 1, então são importantes para o modelo.\n",
        "\n",
        "Apesar de o RC para _Gender_ ser bem baixo, vimos anteriormente que ele é sim significativo para o modelo por dimiuir o AIC, o Deviance e aumentar o $R^2$."
      ],
      "metadata": {
        "id": "u1QuBxVlhLov"
      }
    },
    {
      "cell_type": "markdown",
      "source": [
        "### Análise de Resíduos\n",
        "\n",
        "Vamos comparar os resíduos entre o modelo com todas as covariáveis e nenhuma interação com o último modelo obtido, com todas as interações."
      ],
      "metadata": {
        "id": "GS74GwJuf-1B"
      }
    },
    {
      "cell_type": "code",
      "source": [
        "x = dados[['Age', 'AnnualSalary','Gender']]\n",
        "y_hat = regressao6.predict(x)\n",
        "\n",
        "plt.figure(figsize=(6,4))\n",
        "sns.scatterplot(x=y_hat, y=regressao6.resid_deviance)\n",
        "\n",
        "y_hat.describe()"
      ],
      "metadata": {
        "colab": {
          "base_uri": "https://localhost:8080/",
          "height": 529
        },
        "id": "xMU7LwgMfvD3",
        "outputId": "08625bac-a082-4c54-d60b-7fcab33f7be3"
      },
      "execution_count": 71,
      "outputs": [
        {
          "output_type": "execute_result",
          "data": {
            "text/plain": [
              "count    1.000000e+03\n",
              "mean     4.020000e-01\n",
              "std      3.859357e-01\n",
              "min      3.363361e-10\n",
              "25%      1.587952e-02\n",
              "50%      2.662166e-01\n",
              "75%      8.370010e-01\n",
              "max      9.999807e-01\n",
              "dtype: float64"
            ]
          },
          "metadata": {},
          "execution_count": 71
        },
        {
          "output_type": "display_data",
          "data": {
            "text/plain": [
              "<Figure size 600x400 with 1 Axes>"
            ],
            "image/png": "[encoded data removed]"
          },
          "metadata": {}
        }
      ]
    }
  ],
  "metadata": {
    "kernelspec": {
      "display_name": "base",
      "language": "python",
      "name": "python3"
    },
    "language_info": {
      "codemirror_mode": {
        "name": "ipython",
        "version": 3
      },
      "file_extension": ".py",
      "mimetype": "text/x-python",
      "name": "python",
      "nbconvert_exporter": "python",
      "pygments_lexer": "ipython3",
      "version": "3.10.9"
    },
    "orig_nbformat": 4,
    "colab": {
      "provenance": []
    }
  },
  "nbformat": 4,
  "nbformat_minor": 0
}